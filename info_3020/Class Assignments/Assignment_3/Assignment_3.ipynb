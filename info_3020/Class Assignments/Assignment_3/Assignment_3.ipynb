{
  "nbformat": 4,
  "nbformat_minor": 0,
  "metadata": {
    "colab": {
      "name": "Untitled3.ipynb",
      "provenance": [],
      "authorship_tag": "ABX9TyMNTZG+RtdayfeImS5mk3jO",
      "include_colab_link": true
    },
    "kernelspec": {
      "name": "python3",
      "display_name": "Python 3"
    }
  },
  "cells": [
    {
      "cell_type": "markdown",
      "metadata": {
        "id": "view-in-github",
        "colab_type": "text"
      },
      "source": [
        "<a href=\"https://colab.research.google.com/github/Alexander-Kahanek/Python-Class/blob/master/Q1-8_A3_ark0174.ipynb\" target=\"_parent\"><img src=\"https://colab.research.google.com/assets/colab-badge.svg\" alt=\"Open In Colab\"/></a>"
      ]
    },
    {
      "cell_type": "code",
      "metadata": {
        "id": "YbLqfLIH5HNB",
        "colab_type": "code",
        "colab": {}
      },
      "source": [
        "# 1: Assume the days of the week are numbered 0,1,2,3,4,5,6 from Sunday to Saturday.\n",
        "# Write a program that asks a day number, and prints the day name (a string).\n",
        "user_num = int(input(\"Please enter an integer 0-6: \"))\n",
        "\n",
        "if (user_num == 0):\n",
        "    print(\"Sunday\")\n",
        "elif (user_num == 1):\n",
        "    print(\"Monday\")\n",
        "elif (user_num == 2):\n",
        "    print(\"Tuesday\")\n",
        "elif (user_num == 3):\n",
        "    print(\"Wednesday\")\n",
        "elif (user_num == 4):\n",
        "    print(\"Thursday\")\n",
        "elif (user_num == 5):\n",
        "    print(\"Friday\")\n",
        "elif (user_num == 6):\n",
        "    print(\"Saturday\")\n",
        "else:\n",
        "    print(\"Wrong number entered.\")\n",
        "    exit(1)"
      ],
      "execution_count": 0,
      "outputs": []
    },
    {
      "cell_type": "code",
      "metadata": {
        "id": "PjvAk1hybh_i",
        "colab_type": "code",
        "colab": {}
      },
      "source": [
        "# 2: Write a program which, given the length of two sides of a right-angled triangle,\n",
        "# returns the length of the hypotenuse.\n",
        "\n",
        "import math\n",
        "\n",
        "user_length_1 = float(input(\"Please enter one side of your right triangle: \"))\n",
        "user_length_2 = float(input(\"Please enter the other side of your right triangle: \"))\n",
        "\n",
        "hypotenuse = math.sqrt(user_length_1**2+ user_length_2**2)\n",
        "\n",
        "print(\"Your hypotenuse is: \", hypotenuse)"
      ],
      "execution_count": 0,
      "outputs": []
    },
    {
      "cell_type": "code",
      "metadata": {
        "id": "L39Vfd_rbsHW",
        "colab_type": "code",
        "colab": {}
      },
      "source": [
        "# 3: Write a program which, given the length of three sides of a triangle,\n",
        "# will determine whether the triangle is right- angled. Assume that the third argument to the function is always the\n",
        "# longest side. It will return True if the triangle is right-angled, or False otherwise.\n",
        "\n",
        "length_1 = float(input(\"Please enter one side of your triangle: \"))\n",
        "length_2 = float(input(\"Please enter one side of your triangle: \"))\n",
        "length_3 = float(input(\"Please enter one side of your triangle: \"))\n",
        "\n",
        "if (length_1**2 == length_2**2 + length_3**2):\n",
        "    right_triangle = True\n",
        "elif (length_2**2 == length_1**2 + length_3**2):\n",
        "    right_triangle = True\n",
        "elif (length_3**2 == length_1**2 + length_2**2):\n",
        "    right_triangle = True\n",
        "else:\n",
        "    right_triangle = False\n",
        "\n",
        "print(right_triangle)"
      ],
      "execution_count": 0,
      "outputs": []
    },
    {
      "cell_type": "code",
      "metadata": {
        "id": "h_qgZfs_buhB",
        "colab_type": "code",
        "colab": {}
      },
      "source": [
        "# 4: Write a program that uses a for loop to print(January to December)\n",
        "# One of the months of the year is January\n",
        "# One of the months of the year is February ...\n",
        "\n",
        "months = [\"January\",\"February\",\"March\",\"April\",\"May\",\"June\",\"July\",\"August\",\"September\",\"October\",\"November\",\"December\"]\n",
        "\n",
        "for i in range(12):\n",
        "    print(\"One of the months of the year is\", months[i])"
      ],
      "execution_count": 0,
      "outputs": []
    },
    {
      "cell_type": "code",
      "metadata": {
        "id": "bqe7I0BIbwlH",
        "colab_type": "code",
        "colab": {}
      },
      "source": [
        "# 5: Assume you have the assignment numbers = [12, 10, 32, 3, 66, 17, 42, 99, 20]\n",
        "# (a) Write a loop that adds all the numbers from the list into a variable called total.\n",
        "# You should set the total variable to have the value 0 before you start adding them up,\n",
        "# and print the value in total after the loop has completed.\n",
        "# (b)  Print the product of all the numbers in the list. (product means all multiplied together)\n",
        "\n",
        "numbers = [12, 10, 32, 3, 66, 17, 42, 99, 20]\n",
        "total = 0\n",
        "\n",
        "for i in range(9):\n",
        "    total = total + numbers[i]\n",
        "print(\"The sum of your numbers is:\", total)\n",
        "\n",
        "total_product = 1\n",
        "for i in range(9):\n",
        "    total_product = total_product * numbers[i]\n",
        "print(\"The total product of your numbers is:\",total_product)"
      ],
      "execution_count": 0,
      "outputs": []
    },
    {
      "cell_type": "code",
      "metadata": {
        "id": "DM0ZeQUvbzRA",
        "colab_type": "code",
        "colab": {}
      },
      "source": [
        "# 6: Use for loops to make a turtle draw these regular polygons\n",
        "# (regular means all sides the same lengths, all angles the same):\n",
        "# • An equilateral triangle\n",
        "# • A hexagon(six sides)\n",
        "\n",
        "import turtle\n",
        "window = turtle.Screen()\n",
        "alex = turtle.Turtle()\n",
        "turtle.shape(\"turtle\")\n",
        "\n",
        "# Triangle\n",
        "alex.forward(200)\n",
        "for i in range (2):\n",
        "    alex.left(120)\n",
        "    alex.forward(200)\n",
        "\n",
        "alex.penup()\n",
        "\n",
        "alex.left(-60) #resets pen\n",
        "alex.forward(200)\n",
        "\n",
        "alex.pendown()\n",
        "\n",
        "#Hexagon\n",
        "for i in range(5):\n",
        "    alex.forward(150)\n",
        "    alex.left(72)\n",
        "\n",
        "turtle.done()"
      ],
      "execution_count": 0,
      "outputs": []
    },
    {
      "cell_type": "code",
      "metadata": {
        "id": "lmqlVIsib1io",
        "colab_type": "code",
        "colab": {}
      },
      "source": [
        "# 7: A drunk pirate makes a random turn and then takes 100 steps forward, makes another random turn,\n",
        "# takes another 100 steps, turns another random amount, etc\n",
        "# A social science student records the angle of each turn before the next 100 steps are taken.\n",
        "# Her experimental data is [160, -43, 270, -97, -43, 200, -940, 17, -86].\n",
        "# (Positive angles are counter-clockwise.) Use a turtle to draw the path taken by our drunk friend.\n",
        "\n",
        "import turtle\n",
        "window = turtle.Screen()\n",
        "alex = turtle.Turtle()\n",
        "turtle.shape(\"turtle\")\n",
        "\n",
        "drunk_angles = [160, -43, 270, -97, -43, 200, -940, 17, -86]\n",
        "\n",
        "for i in range(9):\n",
        "    alex.left(drunk_angles[i])\n",
        "    alex.forward(100)\n",
        "\n",
        "turtle.done()"
      ],
      "execution_count": 0,
      "outputs": []
    },
    {
      "cell_type": "code",
      "metadata": {
        "id": "cbkiVr0hcrPL",
        "colab_type": "code",
        "colab": {}
      },
      "source": [
        "# 8: Write a program that counts the number of even digits in the scope of 1—1000.\n",
        "\n",
        "count_even = 0\n",
        "for i in range(1000):\n",
        "    if ((i+1) % 2 == 0):\n",
        "        count_even = count_even + 1\n",
        "print(\"There are\",count_even,\"even numbers between 1-1000\")"
      ],
      "execution_count": 0,
      "outputs": []
    }
  ]
}