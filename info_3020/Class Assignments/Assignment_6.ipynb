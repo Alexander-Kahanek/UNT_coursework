{
  "nbformat": 4,
  "nbformat_minor": 0,
  "metadata": {
    "colab": {
      "name": "Untitled6.ipynb",
      "provenance": [],
      "authorship_tag": "ABX9TyOclH7IU5wxoGFhFi69M69Q",
      "include_colab_link": true
    },
    "kernelspec": {
      "name": "python3",
      "display_name": "Python 3"
    }
  },
  "cells": [
    {
      "cell_type": "markdown",
      "metadata": {
        "id": "view-in-github",
        "colab_type": "text"
      },
      "source": [
        "<a href=\"https://colab.research.google.com/github/Alexander-Kahanek/Python-Class/blob/master/Assignment_6.ipynb\" target=\"_parent\"><img src=\"https://colab.research.google.com/assets/colab-badge.svg\" alt=\"Open In Colab\"/></a>"
      ]
    },
    {
      "cell_type": "markdown",
      "metadata": {
        "id": "XRX4YsdaxS39",
        "colab_type": "text"
      },
      "source": [
        "1: write a function to write a several numbers in one line (at least 10 numbers)into a txt file. Then write another function to read the several numbers and turn them into an array, and use a mask to set all values above 100 (half of your number should exceed over 100)to be 100 and store the result into another txt file.\n",
        "Tips: map(int,list) could turn a string list to a int list."
      ]
    },
    {
      "cell_type": "code",
      "metadata": {
        "id": "6jzxlCCVxKms",
        "colab_type": "code",
        "colab": {}
      },
      "source": [
        "import numpy as np\n",
        "\n",
        "def write_to_file(x):\n",
        "    f = open(\"data.txt\",\"w\")\n",
        "    strings= map(str,x)\n",
        "    for string in strings:\n",
        "        f.write(string)\n",
        "        f.write(\" \")\n",
        "\n",
        "def read_and_write(file):\n",
        "    f = open(file, \"r\")\n",
        "    file_data = f.read()\n",
        "    split_data = file_data.split(\" \")\n",
        "    split_data = split_data[:-1]\n",
        "    split_data = list(map(int, split_data))\n",
        "    array_data = np.array(split_data)\n",
        "    array_data[array_data > 100] = 100\n",
        "\n",
        "    strings = map(str,array_data)\n",
        "    o = open(\"newfile.txt\",\"w\")\n",
        "    for string in strings:\n",
        "        o.write(string)\n",
        "        o.write(\" \")\n",
        "\n",
        "\n",
        "nums = [10, 109, 221, 4567, 50, 30, 1, 99, 102, 999]\n",
        "\n",
        "write_to_file(nums)\n",
        "read_and_write(\"data.txt\")"
      ],
      "execution_count": 0,
      "outputs": []
    },
    {
      "cell_type": "markdown",
      "metadata": {
        "id": "s8ZEePFHxz9d",
        "colab_type": "text"
      },
      "source": [
        "2: Use tuple to design a student list which atleast has the structure of student id and student name,write a function to write all the students into a txt file and one line for one student You should store at least 10 students. The student id and name can be set by yourself. Then write another function to read the txt file and can get the student (with id and name)randomly. It looks like random roll call in a class."
      ]
    },
    {
      "cell_type": "code",
      "metadata": {
        "id": "948mNOkm27lw",
        "colab_type": "code",
        "colab": {
          "base_uri": "https://localhost:8080/",
          "height": 34
        },
        "outputId": "6ee5fa7e-c7fc-4e55-f2e6-e790f36b3fd1"
      },
      "source": [
        "import random\n",
        "\n",
        "def write_students(students):\n",
        "    f = open(\"students.txt\",\"w\")\n",
        "    for student in students:\n",
        "        f.write(student[0])\n",
        "        f.write(\" \")\n",
        "        f.write(str(student[1]))\n",
        "        f.write(\"\\n\")\n",
        "\n",
        "def read_students(file):\n",
        "    with open(file, \"r\") as my_file:\n",
        "        num = random.randint(1,10)\n",
        "        #print(num)\n",
        "        count = 1\n",
        "        for line in my_file:\n",
        "            if count == num:\n",
        "                print(line,end=\"\")\n",
        "            count += 1\n",
        "\n",
        "students = ((\"John\", 123),(\"Bob\",124),(\"Animesh\",125),(\"Alex\",126),(\"Jonah\",127), (\"Edward\",128),(\"Billy\",129), (\"Sally\",130), (\"Linda\",131), (\"Rose\",132), (\"Candy\",133))\n",
        "\n",
        "write_students(students)\n",
        "(read_students(\"students.txt\"))\n"
      ],
      "execution_count": 2,
      "outputs": [
        {
          "output_type": "stream",
          "text": [
            "John 123\n"
          ],
          "name": "stdout"
        }
      ]
    }
  ]
}
