{
  "nbformat": 4,
  "nbformat_minor": 0,
  "metadata": {
    "colab": {
      "name": "Untitled9.ipynb",
      "provenance": [],
      "authorship_tag": "ABX9TyOKZisFu8KJeHpAWN23woG7",
      "include_colab_link": true
    },
    "kernelspec": {
      "name": "python3",
      "display_name": "Python 3"
    }
  },
  "cells": [
    {
      "cell_type": "markdown",
      "metadata": {
        "id": "view-in-github",
        "colab_type": "text"
      },
      "source": [
        "<a href=\"https://colab.research.google.com/github/Alexander-Kahanek/Python/blob/master/Untitled9.ipynb\" target=\"_parent\"><img src=\"https://colab.research.google.com/assets/colab-badge.svg\" alt=\"Open In Colab\"/></a>"
      ]
    },
    {
      "cell_type": "markdown",
      "metadata": {
        "id": "L1dKDGsq7p0M",
        "colab_type": "text"
      },
      "source": [
        "1: write a method of MyTime, which can return the approximately interval minutes of any two time. The result should be int. It accepts a “MyTime” object as an argument which is need to be compared with the ”MyTime” object who invoke the method."
      ]
    },
    {
      "cell_type": "code",
      "metadata": {
        "id": "lLS2sYR67MPz",
        "colab_type": "code",
        "colab": {
          "base_uri": "https://localhost:8080/",
          "height": 68
        },
        "outputId": "644ee75a-cc03-4beb-fb02-84afa26775b4"
      },
      "source": [
        "import math as m\n",
        "\n",
        "class Mytime:\n",
        "  def __init__(self,hrs=0,mins=0,secs=0):\n",
        "    totalsecs=hrs*3600+mins*60+secs\n",
        "    self.hours=totalsecs//3600\n",
        "    leftoversecs=totalsecs % 3600\n",
        "    self.minutes=leftoversecs // 60\n",
        "    self.seconds=leftoversecs % 60\n",
        "\n",
        "\n",
        "  def increment(self,seconds):\n",
        "    self.seconds+=seconds;\n",
        "    while self.seconds>=60:\n",
        "      self.seconds-=60\n",
        "      self.minutes+=1\n",
        "\n",
        "    while self.minutes>=60:\n",
        "      self.minutes-=60\n",
        "      self.hours+=1\n",
        "  \n",
        "  def to_seconds(self):\n",
        "    return self.hours*3600+self.minutes*60+self.seconds\n",
        "\n",
        "  def __add__(self,other):\n",
        "    return Mytime(0,0,self.to_seconds()+other.to_seconds())\n",
        "\n",
        "  def __str__(self):\n",
        "    return \"the time is {0}:{1}:{2}\".format(self.hours,self.minutes,self.seconds)\n",
        "\n",
        "  def cmp(self, other):\n",
        "    minutes = (self.hours - other.hours)*60 + (self.minutes - other.minutes) + (self.seconds - other.seconds)/60\n",
        "    return (m.ceil(minutes))\n",
        "\n",
        "t1 = Mytime(11,20,43)\n",
        "t2 = Mytime(10,20,30)\n",
        "\n",
        "t3 = Mytime(0,0,0)\n",
        "t4 = Mytime(22,56,32)\n",
        "\n",
        "print(\"The interval minutes is roughly: \",t1.cmp(t2), \"minutes\")\n",
        "print(\"The interval minutes is roughly: \",t3.cmp(t4), \"minutes\")\n",
        "print(\"The interval minutes is roughly: \",t4.cmp(t2), \"minutes\")"
      ],
      "execution_count": 43,
      "outputs": [
        {
          "output_type": "stream",
          "text": [
            "The interval minutes is roughly:  61 minutes\n",
            "The interval minutes is roughly:  -1376 minutes\n",
            "The interval minutes is roughly:  757 minutes\n"
          ],
          "name": "stdout"
        }
      ]
    },
    {
      "cell_type": "markdown",
      "metadata": {
        "id": "k3BLsqEG7Gy_",
        "colab_type": "text"
      },
      "source": [
        "2: Modify cmp so that Aces are ranked higher than Kings"
      ]
    },
    {
      "cell_type": "code",
      "metadata": {
        "id": "98byzk1X1wTO",
        "colab_type": "code",
        "colab": {
          "base_uri": "https://localhost:8080/",
          "height": 153
        },
        "outputId": "e677e3bd-91c4-4461-b020-74dd89534dc6"
      },
      "source": [
        "class Card:\n",
        "  suits = [\"Clubs\", \"Diamonds\", \"Hearts\", \"Spades\"]\n",
        "  ranks = [\"narf\", \"Ace\", \"2\", \"3\",\"4\",\"5\",\"6\",\"7\",\"8\",\"9\",\"10\",\"Jack\",\"Queen\",\"King\"]\n",
        "\n",
        "  def __init__(self, suit=0, rank=0):\n",
        "    self.suit = suit\n",
        "    self.rank = rank\n",
        "\n",
        "  def __str__(self):\n",
        "    return (self.ranks[self.rank]+\" of \"+self.suits[self.suit])\n",
        "\n",
        "  def cmp(self,other):\n",
        "    if self.suit > other.suit: return 1\n",
        "    if self.suit < other.suit: return -1\n",
        "    #suits are same, check ranks\n",
        "    if self.rank == 1: #self is ace\n",
        "      if other.rank != 1: return 1 #self is ace, self wins\n",
        "      else: return -1 #cards are both ace\n",
        "    if other.rank ==1: return -1 #if other is ace, then other wins, otherwise they are the same\n",
        "    if self.rank > other.rank: return 1 #self is better\n",
        "    if self.rank < other.rank: return -1 #other is better\n",
        "    return -1 #cards are same, but not ace\n",
        "\n",
        "c1 = Card(2,9)\n",
        "c2 = Card(3,1)\n",
        "c3 = Card(1,1)\n",
        "c4 = Card(3,11)\n",
        "print(\"c1: \",c1)\n",
        "print(\"c2: \",c2)\n",
        "print(\"c3: \",c3)\n",
        "print(\"c4: \",c4)\n",
        "\n",
        "#1 means c1 is bigger, -1 means c2 is bigger or the cards are the same\n",
        "print(\"c1 cmp c2: \",c1.cmp(c2))\n",
        "print(\"c2 cmp c1: \",c2.cmp(c1))\n",
        "print(\"c4 cmp c3: \",c4.cmp(c3))\n",
        "print(\"c4 cmp c2: \",c4.cmp(c2))"
      ],
      "execution_count": 33,
      "outputs": [
        {
          "output_type": "stream",
          "text": [
            "c1:  9 of Hearts\n",
            "c2:  Ace of Spades\n",
            "c3:  Ace of Diamonds\n",
            "c4:  Jack of Spades\n",
            "c1 cmp c2:  -1\n",
            "c2 cmp c1:  1\n",
            "c4 cmp c3:  1\n",
            "c4 cmp c2:  -1\n"
          ],
          "name": "stdout"
        }
      ]
    },
    {
      "cell_type": "markdown",
      "metadata": {
        "id": "uSbf7N8H66Nn",
        "colab_type": "text"
      },
      "source": [
        "3: Write a function named readposint that uses the input dialog to prompt the user for apostive integer and then checks the input to confirm that it meets the requirements. \n",
        "It should be able to handle inputs that cannot be converted to int,as well as a negative int.\n",
        "(1)try to catch the convert error\n",
        "(2)Raise your own exception when the value is negative."
      ]
    },
    {
      "cell_type": "code",
      "metadata": {
        "id": "avL22vxwzAr3",
        "colab_type": "code",
        "colab": {
          "base_uri": "https://localhost:8080/",
          "height": 350
        },
        "outputId": "44eca4e9-93f0-4609-f019-10ab9675172e"
      },
      "source": [
        "def readposint():\n",
        "  ui = input(\"Please enter a positive integer: \")\n",
        "\n",
        "  try:\n",
        "    usri = int(ui)\n",
        "  except ValueError:\n",
        "    print(\"You did not enter a number\")\n",
        "  else :\n",
        "    if usri <0:\n",
        "      neg_error = ValueError(\"{0} is not a valid positive integer\".format(usri))\n",
        "      raise neg_error\n",
        "\n",
        "    return ui\n",
        "\n",
        "my_ui = readposint()\n",
        "print(my_ui)"
      ],
      "execution_count": 34,
      "outputs": [
        {
          "output_type": "stream",
          "text": [
            "Please enter a positive integer: -1\n"
          ],
          "name": "stdout"
        },
        {
          "output_type": "error",
          "ename": "ValueError",
          "evalue": "ignored",
          "traceback": [
            "\u001b[0;31m---------------------------------------------------------------------------\u001b[0m",
            "\u001b[0;31mValueError\u001b[0m                                Traceback (most recent call last)",
            "\u001b[0;32m<ipython-input-34-57f76e53679b>\u001b[0m in \u001b[0;36m<module>\u001b[0;34m()\u001b[0m\n\u001b[1;32m     13\u001b[0m     \u001b[0;32mreturn\u001b[0m \u001b[0mui\u001b[0m\u001b[0;34m\u001b[0m\u001b[0;34m\u001b[0m\u001b[0m\n\u001b[1;32m     14\u001b[0m \u001b[0;34m\u001b[0m\u001b[0m\n\u001b[0;32m---> 15\u001b[0;31m \u001b[0mmy_ui\u001b[0m \u001b[0;34m=\u001b[0m \u001b[0mreadposint\u001b[0m\u001b[0;34m(\u001b[0m\u001b[0;34m)\u001b[0m\u001b[0;34m\u001b[0m\u001b[0;34m\u001b[0m\u001b[0m\n\u001b[0m\u001b[1;32m     16\u001b[0m \u001b[0mprint\u001b[0m\u001b[0;34m(\u001b[0m\u001b[0mmy_ui\u001b[0m\u001b[0;34m)\u001b[0m\u001b[0;34m\u001b[0m\u001b[0;34m\u001b[0m\u001b[0m\n",
            "\u001b[0;32m<ipython-input-34-57f76e53679b>\u001b[0m in \u001b[0;36mreadposint\u001b[0;34m()\u001b[0m\n\u001b[1;32m      9\u001b[0m     \u001b[0;32mif\u001b[0m \u001b[0musri\u001b[0m \u001b[0;34m<\u001b[0m\u001b[0;36m0\u001b[0m\u001b[0;34m:\u001b[0m\u001b[0;34m\u001b[0m\u001b[0;34m\u001b[0m\u001b[0m\n\u001b[1;32m     10\u001b[0m       \u001b[0mneg_error\u001b[0m \u001b[0;34m=\u001b[0m \u001b[0mValueError\u001b[0m\u001b[0;34m(\u001b[0m\u001b[0;34m\"{0} is not a valid positive integer\"\u001b[0m\u001b[0;34m.\u001b[0m\u001b[0mformat\u001b[0m\u001b[0;34m(\u001b[0m\u001b[0musri\u001b[0m\u001b[0;34m)\u001b[0m\u001b[0;34m)\u001b[0m\u001b[0;34m\u001b[0m\u001b[0;34m\u001b[0m\u001b[0m\n\u001b[0;32m---> 11\u001b[0;31m       \u001b[0;32mraise\u001b[0m \u001b[0mneg_error\u001b[0m\u001b[0;34m\u001b[0m\u001b[0;34m\u001b[0m\u001b[0m\n\u001b[0m\u001b[1;32m     12\u001b[0m \u001b[0;34m\u001b[0m\u001b[0m\n\u001b[1;32m     13\u001b[0m     \u001b[0;32mreturn\u001b[0m \u001b[0mui\u001b[0m\u001b[0;34m\u001b[0m\u001b[0;34m\u001b[0m\u001b[0m\n",
            "\u001b[0;31mValueError\u001b[0m: -1 is not a valid positive integer"
          ]
        }
      ]
    }
  ]
}
