{
  "nbformat": 4,
  "nbformat_minor": 0,
  "metadata": {
    "colab": {
      "name": "Untitled1.ipynb",
      "provenance": [],
      "collapsed_sections": [],
      "authorship_tag": "ABX9TyNhSU9VfiklWjSvcSUmA5Ta",
      "include_colab_link": true
    },
    "kernelspec": {
      "name": "python3",
      "display_name": "Python 3"
    }
  },
  "cells": [
    {
      "cell_type": "markdown",
      "metadata": {
        "id": "view-in-github",
        "colab_type": "text"
      },
      "source": [
        "<a href=\"https://colab.research.google.com/github/Alexander-Kahanek/Python-Class/blob/master/Jan27_Alexander_Kahanek.ipynb\" target=\"_parent\"><img src=\"https://colab.research.google.com/assets/colab-badge.svg\" alt=\"Open In Colab\"/></a>"
      ]
    },
    {
      "cell_type": "code",
      "metadata": {
        "id": "My-jdjVnblOM",
        "colab_type": "code",
        "colab": {
          "base_uri": "https://localhost:8080/",
          "height": 85
        },
        "outputId": "d744891c-a5eb-4c87-e992-a6b14fa45b4d"
      },
      "source": [
        "#store sentence and print in one line\n",
        "word1=\"All\"\n",
        "word2=\"work\"\n",
        "word3=\"and\"\n",
        "word4=\"no\"\n",
        "word5=\"play\"\n",
        "word6=\"makes\"\n",
        "word7=\"Jack\"\n",
        "word8=\"a\"\n",
        "word9=\"dull\"\n",
        "word10=\"boy.\"\n",
        "print(word1,word2,word3,word4,word5,word6,word7,word8,word9,word10)\n",
        "\n",
        "#function to calculate S=3.14*(1+a/b)^3\n",
        "a= float(input(\"please enter a number: \"))\n",
        "b= float(input(\"please enter a number: \"))\n",
        "s=3.14*(1+(a/b))**3\n",
        "print(s)"
      ],
      "execution_count": 1,
      "outputs": [
        {
          "output_type": "stream",
          "text": [
            "All work and no play makes Jack a dull boy.\n",
            "please enter a number: 7\n",
            "please enter a number: 3\n",
            "116.29629629629633\n"
          ],
          "name": "stdout"
        }
      ]
    }
  ]
}