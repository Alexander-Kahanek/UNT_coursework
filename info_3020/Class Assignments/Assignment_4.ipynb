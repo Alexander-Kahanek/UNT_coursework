{
  "nbformat": 4,
  "nbformat_minor": 0,
  "metadata": {
    "colab": {
      "name": "Untitled4.ipynb",
      "provenance": [],
      "authorship_tag": "ABX9TyNtk2vp9gKOTlxAyvy4skCQ",
      "include_colab_link": true
    },
    "kernelspec": {
      "name": "python3",
      "display_name": "Python 3"
    }
  },
  "cells": [
    {
      "cell_type": "markdown",
      "metadata": {
        "id": "view-in-github",
        "colab_type": "text"
      },
      "source": [
        "<a href=\"https://colab.research.google.com/github/Alexander-Kahanek/Python-Class/blob/master/Assignment_4.ipynb\" target=\"_parent\"><img src=\"https://colab.research.google.com/assets/colab-badge.svg\" alt=\"Open In Colab\"/></a>"
      ]
    },
    {
      "cell_type": "code",
      "metadata": {
        "id": "SmOjxFLBSnFS",
        "colab_type": "code",
        "colab": {}
      },
      "source": [
        "#Turtle shapes 1\n",
        "from turtle import Turtle\n",
        "\n",
        "HYPOTENUSE = (2 ** 0.5) / 2\n",
        "\n",
        "tess = Turtle()\n",
        "tess.setheading(45)\n",
        "\n",
        "for radius in range(40, 210, 40):\n",
        "    tess.penup()\n",
        "    tess.goto(radius/2, -radius/2)\n",
        "    tess.pendown()\n",
        "    tess.circle(radius * HYPOTENUSE, steps=4)\n",
        "\n",
        "turtle.done()"
      ],
      "execution_count": 0,
      "outputs": []
    },
    {
      "cell_type": "code",
      "metadata": {
        "id": "7JpfYg7YSmaj",
        "colab_type": "code",
        "colab": {}
      },
      "source": [
        "# Turtle shapes 2\n",
        "from turtle import Turtle\n",
        "\n",
        "tess = Turtle()\n",
        "for i in range(100):\n",
        "    tess.down()\n",
        "    tess.forward(i*3)\n",
        "    tess.right(90)\n",
        "\n",
        "turtle.done()"
      ],
      "execution_count": 0,
      "outputs": []
    },
    {
      "cell_type": "markdown",
      "metadata": {
        "id": "AqKPEobVn050",
        "colab_type": "text"
      },
      "source": [
        "1：Write a function which could return the filename’s extend name. It accepts one argument. If the argument is not a valid filename,it should return it is a invalid filename"
      ]
    },
    {
      "cell_type": "code",
      "metadata": {
        "id": "HMWs-fkHn3tj",
        "colab_type": "code",
        "outputId": "e7fb8376-bd3a-4fc4-a72f-7813179d4c76",
        "colab": {
          "base_uri": "https://localhost:8080/",
          "height": 51
        }
      },
      "source": [
        "def function(filename):\n",
        "    bool = True\n",
        "    while (bool):\n",
        "        count =1\n",
        "        if (count ==1):\n",
        "            file_index = filename.rfind(\".\")\n",
        "            #print(file_index)\n",
        "\n",
        "        if (file_index > 0):\n",
        "            print(filename[file_index+1:])\n",
        "            bool=False\n",
        "        elif (file_index <0):\n",
        "            print(\"Error\")\n",
        "            filename=input(\"Please enter a new filename: \")\n",
        "\n",
        "        count =2\n",
        "\n",
        "\n",
        "filename = input(\"Please enter a filename: \")\n",
        "function(filename)"
      ],
      "execution_count": 0,
      "outputs": [
        {
          "output_type": "stream",
          "text": [
            "Please enter a filename: dat.txt.java.pop\n",
            "pop\n"
          ],
          "name": "stdout"
        }
      ]
    },
    {
      "cell_type": "markdown",
      "metadata": {
        "id": "jB94Ry1RoVr6",
        "colab_type": "text"
      },
      "source": [
        "2: Write a function replace(s,old,new) that replaces all occurrences of the old character with a new character in a strings."
      ]
    },
    {
      "cell_type": "code",
      "metadata": {
        "id": "G3j7Bs7YvpKr",
        "colab_type": "code",
        "outputId": "50284eec-103e-4dcd-a05a-7b0ae95f7317",
        "colab": {
          "base_uri": "https://localhost:8080/",
          "height": 85
        }
      },
      "source": [
        "string = input(\"Please enter a string to modify: \")\n",
        "old = input(\"Please enter the old character to replace: \")\n",
        "new = input(\"Please enter the new character: \")\n",
        "\n",
        "\n",
        "def function(string,old, new):\n",
        "    curr_index = string.find(old)\n",
        "    while (curr_index!=-1):\n",
        "        string = string[:curr_index] + new + string[curr_index +1:]\n",
        "        curr_index = string.find(old)\n",
        "    return string\n",
        "\n",
        "string = function(string, old, new)\n",
        "print(string)"
      ],
      "execution_count": 0,
      "outputs": [
        {
          "output_type": "stream",
          "text": [
            "Please enter a string to modify: hello how are you\n",
            "Please enter the old character to replace: o\n",
            "Please enter the new character: 1\n",
            "hell1 h1w are y1u\n"
          ],
          "name": "stdout"
        }
      ]
    }
  ]
}