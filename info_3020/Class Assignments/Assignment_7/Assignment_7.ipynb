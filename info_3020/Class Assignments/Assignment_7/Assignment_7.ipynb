{
  "nbformat": 4,
  "nbformat_minor": 0,
  "metadata": {
    "colab": {
      "name": "Untitled7.ipynb",
      "provenance": [],
      "authorship_tag": "ABX9TyMujcpNcdFS0wptyV0poeao",
      "include_colab_link": true
    },
    "kernelspec": {
      "name": "python3",
      "display_name": "Python 3"
    }
  },
  "cells": [
    {
      "cell_type": "markdown",
      "metadata": {
        "id": "view-in-github",
        "colab_type": "text"
      },
      "source": [
        "<a href=\"https://colab.research.google.com/github/Alexander-Kahanek/Python-Class/blob/master/Assignment_7_recursion.ipynb\" target=\"_parent\"><img src=\"https://colab.research.google.com/assets/colab-badge.svg\" alt=\"Open In Colab\"/></a>"
      ]
    },
    {
      "cell_type": "markdown",
      "metadata": {
        "id": "aVzayhGEe_P9",
        "colab_type": "text"
      },
      "source": [
        "Use recursion style to modify the assignment in lesson 4\n",
        "\n",
        "1) Draw squares in a consecutive line"
      ]
    },
    {
      "cell_type": "code",
      "metadata": {
        "id": "UPvT8Mcle_HN",
        "colab_type": "code",
        "colab": {}
      },
      "source": [
        "import turtle\n",
        "import math as m\n",
        "window = turtle.Screen()\n",
        "alex = turtle.Turtle()\n",
        "\n",
        "def function(num_square, area_square):\n",
        "    if num_square == 1:\n",
        "        for i in range(4):\n",
        "            side = m.sqrt(area_square)\n",
        "            alex.forward(side)\n",
        "            alex.left(90)\n",
        "        alex.penup()\n",
        "        alex.forward(side*2)\n",
        "        alex.pendown()\n",
        "    else:\n",
        "        for i in range(num_square):\n",
        "            function(1,area_square)\n",
        "\n",
        "function(8,900)\n",
        "turtle.done()"
      ],
      "execution_count": 0,
      "outputs": []
    },
    {
      "cell_type": "markdown",
      "metadata": {
        "id": "bJF_MlxOfiw_",
        "colab_type": "text"
      },
      "source": [
        "2) Draw concentric squares"
      ]
    },
    {
      "cell_type": "code",
      "metadata": {
        "id": "s__SJ42te-x1",
        "colab_type": "code",
        "colab": {}
      },
      "source": [
        "import turtle\n",
        "import math as m\n",
        "window = turtle.Screen()\n",
        "alex = turtle.Turtle()\n",
        "\n",
        "def function(num_squares, area_first_square, length_bw_squares):\n",
        "    side = m.sqrt(area_first_square)\n",
        "    triangle_side = length_bw_squares\n",
        "    if num_squares == 1:\n",
        "        for i in range(4):\n",
        "            alex.forward(side)\n",
        "            alex.right(90)\n",
        "        alex.left(135)\n",
        "        alex.penup()\n",
        "        alex.forward(triangle_side* m.sqrt(2))\n",
        "        alex.pendown()\n",
        "        alex.right(135)\n",
        "\n",
        "        #new area for next square\n",
        "        new_area = pow(side+2*triangle_side,2)\n",
        "        return new_area\n",
        "    else:\n",
        "        returned_area = area_first_square\n",
        "        for i in range(num_squares):\n",
        "            returned_area = function(1, returned_area,length_bw_squares)\n",
        "\n",
        "function(15,900,10)\n",
        "\n",
        "turtle.done()"
      ],
      "execution_count": 0,
      "outputs": []
    },
    {
      "cell_type": "markdown",
      "metadata": {
        "id": "JsLrvJ4Xe-Rm",
        "colab_type": "text"
      },
      "source": [
        "Write a function count that returns the total count of a specific number in a nested list. The requirements are as follows:\n",
        "  The element’s type of the list should be int. \n",
        "  It should at least have 5 nested in depth. \n",
        "  You can define the number by yourself."
      ]
    },
    {
      "cell_type": "code",
      "metadata": {
        "id": "-M4iw_n4x2lL",
        "colab_type": "code",
        "outputId": "3022ff13-af8b-4b9f-8879-873c79a8b12d",
        "colab": {
          "base_uri": "https://localhost:8080/",
          "height": 34
        }
      },
      "source": [
        "my_list = [3,2,1,[5,6,7],8,9,1,5,[6,7,8,[1,2,3,[5,6,7,8,[3,5,6,7,9,[1,2,4,5,8]]]],9,3],5,3,2,1,[4,5,[5,6,7],[6,7,3]]]\n",
        "\n",
        "def my_count(the_list, num):\n",
        "    total =0\n",
        "    for i in the_list:\n",
        "        if type(i) is list:\n",
        "            total += my_count(i,num)\n",
        "        else:\n",
        "            if i == num:\n",
        "                total +=1\n",
        "    return total\n",
        "\n",
        "total = my_count(my_list,1)\n",
        "print(\"Total count is:\",total)"
      ],
      "execution_count": 0,
      "outputs": [
        {
          "output_type": "stream",
          "text": [
            "Total count is: 5\n"
          ],
          "name": "stdout"
        }
      ]
    }
  ]
}
