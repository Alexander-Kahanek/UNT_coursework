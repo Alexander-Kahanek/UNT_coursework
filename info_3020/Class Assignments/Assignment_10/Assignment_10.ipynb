{
  "nbformat": 4,
  "nbformat_minor": 0,
  "metadata": {
    "colab": {
      "name": "Untitled11.ipynb",
      "provenance": [],
      "collapsed_sections": [],
      "authorship_tag": "ABX9TyNf2zaM7UkSun8ZNDxSjD5t",
      "include_colab_link": true
    },
    "kernelspec": {
      "name": "python3",
      "display_name": "Python 3"
    }
  },
  "cells": [
    {
      "cell_type": "markdown",
      "metadata": {
        "id": "view-in-github",
        "colab_type": "text"
      },
      "source": [
        "<a href=\"https://colab.research.google.com/github/Alexander-Kahanek/Python/blob/master/Assignment_11.ipynb\" target=\"_parent\"><img src=\"https://colab.research.google.com/assets/colab-badge.svg\" alt=\"Open In Colab\"/></a>"
      ]
    },
    {
      "cell_type": "code",
      "metadata": {
        "id": "QdQgqe1LOy3X",
        "colab_type": "code",
        "colab": {}
      },
      "source": [
        "import pymysql\n",
        "\n",
        "def getCountry():\n",
        "    pydb = pymysql.connect(\"localhost\",\"root\",\"MW$^cb77\",\"world\")\n",
        "    dbcursor = pydb.cursor()\n",
        "\n",
        "    sql = \"select Name from country\"\n",
        "    dbcursor.execute(sql)\n",
        "    results = dbcursor.fetchall()\n",
        "\n",
        "    print(\"COUNTRIES\")\n",
        "    print(\"--------------------------\")\n",
        "    for row in results:\n",
        "        print(row[0])\n",
        "    print(\"--------------------------\")\n",
        "    dbcursor.close()\n",
        "\n",
        "def get_one_row(country):\n",
        "    pydb = pymysql.connect(\"localhost\", \"root\", \"MW$^cb77\", \"world\")\n",
        "    dbcursor = pydb.cursor()\n",
        "\n",
        "    sql = \"select * from country where Name='\"+country+\"'\"\n",
        "    dbcursor.execute(sql)\n",
        "    results = dbcursor.fetchone()\n",
        "\n",
        "    print(\"COUNTRY WITH NAME\")\n",
        "    print(\"--------------------------\")\n",
        "    print(results)\n",
        "    print(\"--------------------------\")\n",
        "    dbcursor.close()\n",
        "\n",
        "getCountry()\n",
        "\n",
        "get_one_row(\"Zambia\")\n",
        "\n"
      ],
      "execution_count": 0,
      "outputs": []
    }
  ]
}
