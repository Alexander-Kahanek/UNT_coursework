{
  "nbformat": 4,
  "nbformat_minor": 0,
  "metadata": {
    "colab": {
      "name": "Untitled5.ipynb",
      "provenance": [],
      "authorship_tag": "ABX9TyOpdRkYHDiZPu6PqwuVkZak",
      "include_colab_link": true
    },
    "kernelspec": {
      "name": "python3",
      "display_name": "Python 3"
    }
  },
  "cells": [
    {
      "cell_type": "markdown",
      "metadata": {
        "id": "view-in-github",
        "colab_type": "text"
      },
      "source": [
        "<a href=\"https://colab.research.google.com/github/Alexander-Kahanek/Python-Class/blob/master/Assignment_5.ipynb\" target=\"_parent\"><img src=\"https://colab.research.google.com/assets/colab-badge.svg\" alt=\"Open In Colab\"/></a>"
      ]
    },
    {
      "cell_type": "markdown",
      "metadata": {
        "id": "N6OwIy5_lWBt",
        "colab_type": "text"
      },
      "source": [
        "Use tuple to create a student data structure which could store every student’s student id, student name,and their courses they selected. There should be at least two courses.\n",
        "\n",
        "Write a function which could return the courses by the specific student’sn ame"
      ]
    },
    {
      "cell_type": "code",
      "metadata": {
        "id": "vU9xrqNSlMAi",
        "colab_type": "code",
        "outputId": "8087b599-422b-4c52-e812-eadd84ceda8f",
        "colab": {
          "base_uri": "https://localhost:8080/",
          "height": 34
        }
      },
      "source": [
        "x= ((2017,\"John\",(\"Math\",\"Intro to Python\")),(8940,\"Sally\",(\"Math\",\"Physics\",\"Biology\")))\n",
        "\n",
        "def function(x, name):\n",
        "    for i in range(len(x)):\n",
        "        if name == x[i][1]:\n",
        "            #print(i)\n",
        "            return x[i][2]\n",
        "    return \"Error with name\"\n",
        "\n",
        "\n",
        "print(function(x,\"Sally\"))\n"
      ],
      "execution_count": 0,
      "outputs": [
        {
          "output_type": "stream",
          "text": [
            "('Math', 'Physics', 'Biology')\n"
          ],
          "name": "stdout"
        }
      ]
    },
    {
      "cell_type": "markdown",
      "metadata": {
        "id": "jg0W_25_mHok",
        "colab_type": "text"
      },
      "source": [
        "1: write a function which could create a matrix which has n rows and m columns.\n",
        "\n",
        "2: fill the matrix with any data you want \n",
        "\n",
        "3: write another function which could return the index of any specific data\n",
        "\n",
        "4: if the specific data is not in the matrix, it return -1, or return the row and column where the data is in."
      ]
    },
    {
      "cell_type": "code",
      "metadata": {
        "id": "qUyXSWUGmxQ_",
        "colab_type": "code",
        "outputId": "1b31291f-e3d2-4bb5-c259-04f837f3b067",
        "colab": {
          "base_uri": "https://localhost:8080/",
          "height": 51
        }
      },
      "source": [
        "def create(n,m):\n",
        "    array=[]\n",
        "    main_array=[]\n",
        "    for j in range(n):\n",
        "        for k in range(m):\n",
        "            array.append(k)\n",
        "        main_array.append(array)\n",
        "        array = []\n",
        "    return main_array\n",
        "\n",
        "def find(matrix,value):\n",
        "    for n in range(len(matrix)):\n",
        "        for m in range(len(matrix[n])):\n",
        "            if value == matrix[n][m]:\n",
        "                return (n,m)\n",
        "    return -1\n",
        "\n",
        "x= create(5,2)\n",
        "print(x)\n",
        "print(\"(row,col)=\",find(x,1))"
      ],
      "execution_count": 0,
      "outputs": [
        {
          "output_type": "stream",
          "text": [
            "[[0, 1], [0, 1], [0, 1], [0, 1], [0, 1]]\n",
            "(row,col)= (0, 1)\n"
          ],
          "name": "stdout"
        }
      ]
    },
    {
      "cell_type": "markdown",
      "metadata": {
        "id": "SMfoV0vV1cPG",
        "colab_type": "text"
      },
      "source": [
        "Write a function which could return the frequency of occurrence of every word in one specific string or passage.\n",
        "The result should be stored as dictionary.\n",
        "\n",
        "Write another function which could list the content of dictionary."
      ]
    },
    {
      "cell_type": "code",
      "metadata": {
        "id": "YZZToQx-1eBd",
        "colab_type": "code",
        "colab": {
          "base_uri": "https://localhost:8080/",
          "height": 119
        },
        "outputId": "d77f4d64-3451-4154-8bc5-2975df769040"
      },
      "source": [
        "def store(string):\n",
        "    Dictionary={}\n",
        "    new_words = string.split()\n",
        "    Dictionary[new_words[0]] = 0\n",
        "    for word in new_words:\n",
        "        count = 1\n",
        "        dictlist = list(Dictionary.items())\n",
        "        #print(dictlist)\n",
        "        for i in range(len(dictlist)):\n",
        "            #print(\"loop\")\n",
        "            #print(dictlist[i][0],word,i)\n",
        "            if word == dictlist[i][0]:\n",
        "                count = dictlist[i][1] + 1\n",
        "                Dictionary[word] = count\n",
        "                count = 1\n",
        "                #print(\"same\")\n",
        "                break\n",
        "            else:\n",
        "                Dictionary[word] = count\n",
        "                #print(\"not same\")\n",
        "    return Dictionary\n",
        "\n",
        "def printdict(Dictionary):\n",
        "    print(\"Word                Count\")\n",
        "    print(\"=========================\")\n",
        "    dictlist = list(Dictionary.items())\n",
        "    for i in range(len(dictlist)):\n",
        "        print(dictlist[i][0],\"                \",dictlist[i][1])\n",
        "\n",
        "string = \"how are how you today how are\"\n",
        "\n",
        "Dictionary = store(string)\n",
        "#print(list(Dictionary.items()))\n",
        "printdict(Dictionary)"
      ],
      "execution_count": 1,
      "outputs": [
        {
          "output_type": "stream",
          "text": [
            "Word                Count\n",
            "=========================\n",
            "how                  3\n",
            "are                  2\n",
            "you                  1\n",
            "today                  1\n"
          ],
          "name": "stdout"
        }
      ]
    }
  ]
}
