{
  "nbformat": 4,
  "nbformat_minor": 0,
  "metadata": {
    "colab": {
      "name": "Untitled8.ipynb",
      "provenance": [],
      "authorship_tag": "ABX9TyNC3vw7CJgbipW73qgLVhNb",
      "include_colab_link": true
    },
    "kernelspec": {
      "name": "python3",
      "display_name": "Python 3"
    }
  },
  "cells": [
    {
      "cell_type": "markdown",
      "metadata": {
        "id": "view-in-github",
        "colab_type": "text"
      },
      "source": [
        "<a href=\"https://colab.research.google.com/github/Alexander-Kahanek/Python/blob/master/Assignment_8.ipynb\" target=\"_parent\"><img src=\"https://colab.research.google.com/assets/colab-badge.svg\" alt=\"Open In Colab\"/></a>"
      ]
    },
    {
      "cell_type": "markdown",
      "metadata": {
        "id": "IHoZhdSBi99l",
        "colab_type": "text"
      },
      "source": [
        "Here is my Point class declared, imbedded is the reflect function"
      ]
    },
    {
      "cell_type": "code",
      "metadata": {
        "id": "EZRe_GlZi65e",
        "colab_type": "code",
        "colab": {}
      },
      "source": [
        "import math as m\n",
        "class Point:\n",
        "    def __init__(self,x=0,y=0):\n",
        "        self.x=x\n",
        "        self.y=y\n",
        "    def reflect_x(self): #reflect function :: Q2\n",
        "        np = Point(self.x, -1 * self.y)\n",
        "        return (np)\n",
        "    def __str__(self):\n",
        "        return \"({0},{1})\".format(self.x,self.y)"
      ],
      "execution_count": 0,
      "outputs": []
    },
    {
      "cell_type": "markdown",
      "metadata": {
        "id": "CJ2wVRArjIRe",
        "colab_type": "text"
      },
      "source": [
        "Here is my distance function, as well as calling my two functions."
      ]
    },
    {
      "cell_type": "code",
      "metadata": {
        "id": "wdJE5kZyjIoU",
        "colab_type": "code",
        "colab": {
          "base_uri": "https://localhost:8080/",
          "height": 51
        },
        "outputId": "6175bc53-9410-48b3-d6e5-75184d2eddd6"
      },
      "source": [
        "def distance(p1, p2): #distance function :: Q1\n",
        "    deltaX = p1.x - p2.x\n",
        "    deltaY = p1.y - p2.y\n",
        "    return m.sqrt(deltaX**2 + deltaY**2)\n",
        "\n",
        "p1 = Point(1,3)\n",
        "p2 = Point(6,4)\n",
        "\n",
        "#reflecting :: Q1\n",
        "print(p1.reflect_x())\n",
        "#distance :: Q2\n",
        "print(distance(p1,p2))"
      ],
      "execution_count": 3,
      "outputs": [
        {
          "output_type": "stream",
          "text": [
            "(1,-3)\n",
            "5.0990195135927845\n"
          ],
          "name": "stdout"
        }
      ]
    },
    {
      "cell_type": "markdown",
      "metadata": {
        "id": "CztLXfLTjmQ2",
        "colab_type": "text"
      },
      "source": [
        "Here is my Rectangle Class, area function, flip function, and checking point function"
      ]
    },
    {
      "cell_type": "code",
      "metadata": {
        "id": "UcF-mOzyjmpc",
        "colab_type": "code",
        "colab": {}
      },
      "source": [
        "class Rectangle:\n",
        "    def __init__(self, posn, w, h):\n",
        "        self.corner = posn\n",
        "        self.width = w\n",
        "        self.height = h\n",
        "\n",
        "    def __str__(self):\n",
        "        return \"({0},{1},{2})\".format(self.corner, self.width, self.height)\n",
        "\n",
        "    def area(self): #area function for Q3\n",
        "        return (self.width*self.height)\n",
        "\n",
        "    def flip(self): #flip function for Q4\n",
        "        R = Rectangle((0,0),0,0)\n",
        "        R.width = self.width\n",
        "        self.width = self.height\n",
        "        self.height = R.width\n",
        "        return self\n",
        "    \n",
        "    def check_point(self, p1): #find function for Q5\n",
        "        new_x = self.corner.x + self.width\n",
        "        new_y = self.corner.y + self.height\n",
        "        if (p1.x < new_x):\n",
        "          if (p1.x >= self.corner.x):\n",
        "            if (p1.y < new_y):\n",
        "              if (p1.y >= self.corner.y):\n",
        "                return True\n",
        "        return False"
      ],
      "execution_count": 0,
      "outputs": []
    },
    {
      "cell_type": "markdown",
      "metadata": {
        "id": "0NuG4J71kake",
        "colab_type": "text"
      },
      "source": [
        "Here I am calling area, flip, then 4 check points"
      ]
    },
    {
      "cell_type": "code",
      "metadata": {
        "id": "WTD3royKka_8",
        "colab_type": "code",
        "colab": {
          "base_uri": "https://localhost:8080/",
          "height": 119
        },
        "outputId": "059be1cd-2fc2-47e5-fff3-d10095544f26"
      },
      "source": [
        "r1 = Rectangle(Point(1,2), 2,4)\n",
        "\n",
        "#calling area function :: Q3\n",
        "print(r1.area())\n",
        "#calling flip function :: Q4\n",
        "print(r1.flip())\n",
        "#calling check point function :: Q5\n",
        "r2 = Rectangle(Point(0,0),3,6)\n",
        "print(r2.check_point(Point(0,0))) #should return true as its the origin\n",
        "print (r2.check_point(Point(2,5))) #should return true as it falls inside the rectangle\n",
        "print (r2.check_point(Point(3,4))) #should return false as it hits far wall of rectangle\n",
        "print (r2.check_point(Point(9,9))) #should return false as it is very far from rectangle"
      ],
      "execution_count": 56,
      "outputs": [
        {
          "output_type": "stream",
          "text": [
            "8\n",
            "((1,2),4,2)\n",
            "True\n",
            "True\n",
            "False\n",
            "False\n"
          ],
          "name": "stdout"
        }
      ]
    }
  ]
}
