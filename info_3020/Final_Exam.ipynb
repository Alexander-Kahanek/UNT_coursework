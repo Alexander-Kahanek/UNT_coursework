{
  "nbformat": 4,
  "nbformat_minor": 0,
  "metadata": {
    "colab": {
      "name": "Untitled14.ipynb",
      "provenance": [],
      "collapsed_sections": [],
      "authorship_tag": "ABX9TyOYVDR8ENjOMRRUu1cW+lKE",
      "include_colab_link": true
    },
    "kernelspec": {
      "name": "python3",
      "display_name": "Python 3"
    }
  },
  "cells": [
    {
      "cell_type": "markdown",
      "metadata": {
        "id": "view-in-github",
        "colab_type": "text"
      },
      "source": [
        "<a href=\"https://colab.research.google.com/github/Alexander-Kahanek/Python/blob/master/Final_Exam.ipynb\" target=\"_parent\"><img src=\"https://colab.research.google.com/assets/colab-badge.svg\" alt=\"Open In Colab\"/></a>"
      ]
    },
    {
      "cell_type": "markdown",
      "metadata": {
        "id": "4cWz5GfDVwNz",
        "colab_type": "text"
      },
      "source": [
        "1: write a function which could print a string content. The requirements are as follows (20’)\n",
        "\n",
        "(1) the function accepts one argument which is  printed as the string  content (10’)\n",
        "\n",
        "(2) the value of the argument should be provided in command line (10’)\n"
      ]
    },
    {
      "cell_type": "code",
      "metadata": {
        "id": "BVmqRuaPVrrS",
        "colab_type": "code",
        "colab": {
          "base_uri": "https://localhost:8080/",
          "height": 68
        },
        "outputId": "fddfba0e-3120-487b-f213-f924fe504f3e"
      },
      "source": [
        "def print_f(string=\"\"):\n",
        "  if string == \"\":\n",
        "    string = input(\"Please input a string: \")\n",
        "  print(string)\n",
        "\n",
        "print_f(\"hello\")\n",
        "print_f()"
      ],
      "execution_count": 9,
      "outputs": [
        {
          "output_type": "stream",
          "text": [
            "hello\n",
            "Please enter a string: This is my string\n",
            "This is my string\n"
          ],
          "name": "stdout"
        }
      ]
    },
    {
      "cell_type": "markdown",
      "metadata": {
        "id": "tcA6jESWWm70",
        "colab_type": "text"
      },
      "source": [
        "2: Write a program that could sum all the even digit in the scope of 1-1000. The requirements are as follows. (20’)\n",
        "\n",
        "(1) use the function of range to express the scope of 1-1000 (10’)\n",
        "\n",
        "(2) use for loop to deal with the scope (10’)\n",
        "\n",
        "The result should be “250500”.\n"
      ]
    },
    {
      "cell_type": "code",
      "metadata": {
        "id": "x360_FezWp57",
        "colab_type": "code",
        "colab": {
          "base_uri": "https://localhost:8080/",
          "height": 34
        },
        "outputId": "f084e08d-1e0d-4917-f1ad-9296c9661c46"
      },
      "source": [
        "sum=0\n",
        "for i in range(1000):\n",
        "  if ((i+1)%2) == 0:\n",
        "    sum = sum + (i+1)\n",
        "print(sum)"
      ],
      "execution_count": 13,
      "outputs": [
        {
          "output_type": "stream",
          "text": [
            "250500\n"
          ],
          "name": "stdout"
        }
      ]
    },
    {
      "cell_type": "markdown",
      "metadata": {
        "id": "jyJDI9b8XVi7",
        "colab_type": "text"
      },
      "source": [
        "3: Given a number list which is numbers=[12,10,3,2,[6,[7,8,9],19,21],21]. Write a function that can get the product of all the numbers in the list. The requirements are as follows. (20’)\n",
        "\n",
        "(1) write the function by recursion (10’)\n",
        "\n",
        "(2) the “numbers” should be an argument of the function (5’)\n",
        "\n",
        "(3) the function returns a number (5’)\n",
        "\n",
        "The result should be “18243429120”.\n"
      ]
    },
    {
      "cell_type": "code",
      "metadata": {
        "id": "3ftboh72XXkq",
        "colab_type": "code",
        "colab": {
          "base_uri": "https://localhost:8080/",
          "height": 34
        },
        "outputId": "e6181248-4a89-475d-baa2-d14f5abc5af5"
      },
      "source": [
        "numbers=[12,10,3,2,[6,[7,8,9],19,21],21]\n",
        "\n",
        "def get_sum(mylist):\n",
        "  sum=1\n",
        "  for x in mylist:\n",
        "    if type(x) is list:\n",
        "      sum = sum*get_sum(x)\n",
        "    else:\n",
        "      sum = sum*x\n",
        "  return (sum)\n",
        "\n",
        "print(get_sum(numbers))"
      ],
      "execution_count": 171,
      "outputs": [
        {
          "output_type": "stream",
          "text": [
            "18243429120\n"
          ],
          "name": "stdout"
        }
      ]
    },
    {
      "cell_type": "markdown",
      "metadata": {
        "id": "jEyRdf9Eb3Gs",
        "colab_type": "text"
      },
      "source": [
        "4: Given a matrix which is matrix=[[23,43,12],[32,12,52],[15,35,52],[19,28,56]]. Write a function to complete the following task. (30’)\n",
        "\n",
        "(1) turn the matrix (List) into an array (5’)\n",
        "\n",
        "(2) use mask to set all the value above 20 to 0 (15’)\n",
        "\n",
        "(3) output the result into a txt file (10’)\n"
      ]
    },
    {
      "cell_type": "code",
      "metadata": {
        "id": "CN28FB9_a2C3",
        "colab_type": "code",
        "colab": {
          "base_uri": "https://localhost:8080/",
          "height": 221
        },
        "outputId": "13c59db8-0cae-44c4-ec80-1e18b71cc9d9"
      },
      "source": [
        "import numpy as np\n",
        "\n",
        "matrix=[[23,43,12],[32,12,52],[15,35,52],[19,28,56]]\n",
        "\n",
        "def mat_txt(matrix):\n",
        "  arr= np.array(matrix)\n",
        "  arr[arr>20]=0\n",
        "  f = open(\"data.txt\",\"w\")\n",
        "  f.write(str(arr))\n",
        "\n",
        "mat_txt(matrix)\n",
        "\n"
      ],
      "execution_count": 169,
      "outputs": [
        {
          "output_type": "stream",
          "text": [
            "0\n",
            "0\n",
            "12\n",
            "0\n",
            "12\n",
            "0\n",
            "15\n",
            "0\n",
            "0\n",
            "19\n",
            "0\n",
            "0\n"
          ],
          "name": "stdout"
        }
      ]
    },
    {
      "cell_type": "markdown",
      "metadata": {
        "id": "kBEvXNQZloVn",
        "colab_type": "text"
      },
      "source": [
        "5: Given a number list which is numbers=[1,3,2,4,2,3,2,2,3,2,2,4,2,32,3,2,4,2,3,5,3,2,4,2,2,4,2,2,4,2,2,3,1,3,2,3]. Write a function to complete  the following task. (30’)\n",
        "\n",
        "(1) count the frequency of each different number in numbers list (10’)\n",
        "\n",
        "(2) store the result into dictionary (10’)\n",
        "\n",
        "(3) print it out (10’)\n"
      ]
    },
    {
      "cell_type": "code",
      "metadata": {
        "id": "dGYP82Cllqxn",
        "colab_type": "code",
        "colab": {
          "base_uri": "https://localhost:8080/",
          "height": 119
        },
        "outputId": "00d45d5d-fb51-44f0-e7bb-ac734f62bbcc"
      },
      "source": [
        "numbers=[1,3,2,4,2,3,2,2,3,2,2,4,2,32,3,2,4,2,3,5,3,2,4,2,2,4,2,2,4,2,2,3,1,3,2,3]\n",
        "\n",
        "def cnt_freq(numbs):\n",
        "    Dictionary={}\n",
        "    Dictionary[numbs[0]] = 0\n",
        "    for num in numbs:\n",
        "      count = 1\n",
        "      dictlist = list(Dictionary.items())\n",
        "      for i in range(len(dictlist)):\n",
        "        if num == dictlist[i][0]: #number is same\n",
        "          count = dictlist[i][1] + 1\n",
        "          Dictionary[num] = count\n",
        "          count = 1\n",
        "          break\n",
        "        else: #number is not same\n",
        "          Dictionary[num] = count\n",
        "    dictlist = list(Dictionary.items())\n",
        "    for i in range(len(dictlist)):\n",
        "      print(dictlist[i][0],\" \",dictlist[i][1])\n",
        "\n",
        "cnt_freq(numbers)"
      ],
      "execution_count": 209,
      "outputs": [
        {
          "output_type": "stream",
          "text": [
            "1   2\n",
            "3   9\n",
            "2   17\n",
            "4   6\n",
            "32   1\n",
            "5   1\n"
          ],
          "name": "stdout"
        }
      ]
    },
    {
      "cell_type": "markdown",
      "metadata": {
        "id": "9jyPaNTkqBY2",
        "colab_type": "text"
      },
      "source": [
        "6: Create a class Point which represent a point in two dimensions. It has two properties x and y. The detail requirements are as follows.\n",
        "\n",
        "(1) When creating an object of Point, we can assign the value to x and y. If we don’t provide the value, they will be 0. (10’)\n",
        "\n",
        "(2) If we print the object of Point directly, it will output the value of x and y. Its running effect is as follows. (10’)\n",
        "\n",
        "(3) if we create two different objects of Point which are p1 and p2, (p1+p2) will get a new Point whose x is (p1.x+p2.x) and y is (p1.y+p2.y). Suppose p1(1,3) and p2(3.,4), then the result of print(p1+p2) is shown as follows. (10’)"
      ]
    },
    {
      "cell_type": "code",
      "metadata": {
        "id": "p8XWy-zZqIhc",
        "colab_type": "code",
        "colab": {
          "base_uri": "https://localhost:8080/",
          "height": 51
        },
        "outputId": "f3625d60-ec44-4bbf-fc6c-75626c2bd5a9"
      },
      "source": [
        "class Point:\n",
        "  def __init__(self, x=0, y=0):\n",
        "    self.x=x\n",
        "    self.y=y\n",
        "  def __str__(self):\n",
        "        return \"This Point is ({0},{1})\".format(self.x,self.y)\n",
        "  def __add__(self,other):\n",
        "    x= self.x + other.x\n",
        "    y= self.y + other.y\n",
        "    return(Point(x,y))\n",
        "\n",
        "p2 = Point(3,4)\n",
        "print(p2)\n",
        "\n",
        "p1 = Point(1,3)\n",
        "print(p1+p2)"
      ],
      "execution_count": 212,
      "outputs": [
        {
          "output_type": "stream",
          "text": [
            "This Point is (3,4)\n",
            "This Point is (4,7)\n"
          ],
          "name": "stdout"
        }
      ]
    },
    {
      "cell_type": "markdown",
      "metadata": {
        "id": "rwYbHwlbqJrk",
        "colab_type": "text"
      },
      "source": [
        "7: Given an excel file named “catering_sale_all.xls”. It stores the sale situation of several kinds of food on one month. Write a program that could print the total sales volume of the month by a specific food. The detail requirements are follows.(50’)\n",
        "\n",
        "(1) when running the program, it will list all the food with a fixed number in the excel (10’)\n",
        "\n",
        "(2) it notify a user to specific one number (10’)\n",
        "\n",
        "(3) it print the specific food’s total sales volume of one month (10’)\n",
        "\n",
        "(4) after print the result, a user could switch to print another food’s sales volume (10’)\n",
        "\n",
        "(5) when the user select exit, the program exits (10’)"
      ]
    },
    {
      "cell_type": "code",
      "metadata": {
        "id": "CrnN8wfqqNxM",
        "colab_type": "code",
        "colab": {}
      },
      "source": [
        "import pandas as pd\n",
        "\n",
        "df = pd.read_excel(\"catering_sale_all.xls\")\n",
        "\n",
        "dflist = ['exit']\n",
        "for i in range(len(df.columns)):\n",
        "    if i != 0:\n",
        "        dflist.append(df.columns[i])\n",
        "\n",
        "while True:\n",
        "    for i in range(len(dflist)):\n",
        "        print(i, dflist[i])\n",
        "    usr = int(input(\"Please enter a number in the list: \"))\n",
        "    if usr == 0:\n",
        "        break\n",
        "    tot= df[dflist[usr]].sum()\n",
        "    print('The total sale of',dflist[usr], 'is',tot)"
      ],
      "execution_count": 0,
      "outputs": []
    },
    {
      "cell_type": "markdown",
      "metadata": {
        "id": "u_FTRbmVqSp0",
        "colab_type": "text"
      },
      "source": [
        "8: Given a sql file named “world.sql” which are exported from MySQL by MySQL GUI Tools (For Mac: MySQL Workbench, For Windows: MySQL Administrator).Write a series of functions to complete the following tasks. (50’)\n",
        "\n",
        "(1) import the data into MySQL — this is an operation not program (10’)\n",
        "\n",
        "(2) write a function to connect to the ”world” schema by using of “pymysql” module (10’)\n",
        "\n",
        "(3) For the “country” table, write a function to retrieve the average life expectancy of every continent (20’)\n",
        "\n",
        "(4) print the result (10’)"
      ]
    },
    {
      "cell_type": "code",
      "metadata": {
        "id": "c1XuPi_jqZMV",
        "colab_type": "code",
        "colab": {}
      },
      "source": [
        "import pymysql\n",
        "import pandas as pd\n",
        "\n",
        "\n",
        "def connect2sql(host, user, password, datab):\n",
        "    pydb = pymysql.connect(host, user, password, datab)\n",
        "    dbcursor = pydb.cursor()\n",
        "\n",
        "    sql = \"select * from country\"\n",
        "    dbcursor.execute(sql)\n",
        "    results = dbcursor.fetchall()\n",
        "    dbcursor.close()\n",
        "\n",
        "    df = pd.DataFrame(results, columns=['Code','Name',\"Continent\",'Region',\n",
        "                                        'SurfaceArea','IndepYear','Population',\n",
        "                                        'LifeExpectancy','GNP','GNPOld','LocalName',\n",
        "                                        'GovernmentForm',\"HeadOfState\",'Capital','Code2'])\n",
        "    return df\n",
        "\n",
        "def get_le(df):\n",
        "\n",
        "    tdf = df[['LifeExpectancy','Continent']]\n",
        "\n",
        "    tdf['LifeExpectancy']=tdf['LifeExpectancy'].astype(float)\n",
        "    print(tdf.groupby('Continent').mean())\n",
        "\n",
        "\n",
        "df = connect2sql(\"localhost\", \"root\", \"MW$^cb77\", \"world\")\n",
        "get_le(df)"
      ],
      "execution_count": 0,
      "outputs": []
    },
    {
      "cell_type": "markdown",
      "metadata": {
        "id": "pzbrUU9z159r",
        "colab_type": "text"
      },
      "source": [
        "9. Using the “world” schema imported in Question 8. For the “country” table, write a series of functions to complete the following tasks. (50’)\n",
        "\n",
        "(1) write a function to connect to the ”world” schema by using of “pymysql” module (10’)\n",
        "\n",
        "(2) write a function to calculate the total population by every continent (20’)\n",
        "\n",
        "(3) use pie plot to display the result. (20’)\n"
      ]
    },
    {
      "cell_type": "code",
      "metadata": {
        "id": "0kkxfUIq16hx",
        "colab_type": "code",
        "colab": {}
      },
      "source": [
        "import pandas as pd\n",
        "import matplotlib.pyplot as plt\n",
        "\n",
        "def get_pop(df):\n",
        "    tdf = df[['Population', 'Continent']]\n",
        "    tot = []\n",
        "    cnt = []\n",
        "    for cont in pd.unique(tdf['Continent']):\n",
        "        pop = tdf[tdf['Continent']==cont].sum()[0]\n",
        "        tot.append(pop)\n",
        "        cnt.append(cont)\n",
        "\n",
        "    sum=0\n",
        "    for n in tot:\n",
        "        sum = sum+n\n",
        "\n",
        "    for i in range(len(tot)):\n",
        "        tot[i]=(tot[i]/sum)*100\n",
        "    return (tot, cnt)\n",
        "\n",
        "pop, cont = get_pop(df)\n",
        "\n",
        "explode = (0.2,0.2,0.2,0.2,0.2,0.2,0.2)\n",
        "fig1, ax1 = plt.subplots()\n",
        "ax1.pie(pop, labels=cont, autopct='%1.1f%%', explode=explode)\n",
        "ax1.axis('equal')\n",
        "\n",
        "plt.show()"
      ],
      "execution_count": 0,
      "outputs": []
    },
    {
      "cell_type": "markdown",
      "metadata": {
        "id": "h9hTM8s8qcUE",
        "colab_type": "text"
      },
      "source": [
        "10: Given a csv file named “energy-production.csv”. It stores energy production of one area between 1973 and 2014. Write a series of functions to complete the following tasks. (50’)\n",
        "\n",
        "(1) use “panda” to load the “energy-production.csv” file (10’)\n",
        "\n",
        "(2) Write a function which accept year (1973-2014) as argument to retrieve the specific year’s energy production in detail. (20’)\n",
        "\n",
        "(3) use bar plot to display the retrieved result. (20’)\n"
      ]
    },
    {
      "cell_type": "code",
      "metadata": {
        "id": "G8Ds_djaqeFs",
        "colab_type": "code",
        "colab": {}
      },
      "source": [
        "import pandas as pd\n",
        "import matplotlib.pyplot as plt\n",
        "\n",
        "def get_year(df):\n",
        "    usr = int(input(\"Please enter a year between 1973 and 2014: \"))\n",
        "    tdf = df[df['Year']==usr]\n",
        "    tdf = tdf.drop(['Unnamed: 0','Year'], axis=1)\n",
        "    tdf = pd.melt(tdf)\n",
        "    return tdf\n",
        "\n",
        "\n",
        "df = pd.read_csv('energy-production.csv')\n",
        "\n",
        "df = get_year(df)\n",
        "\n",
        "df.plot('variable','value',kind='bar')\n",
        "plt.xticks(rotation=315)\n",
        "plt.show()"
      ],
      "execution_count": 0,
      "outputs": []
    }
  ]
}