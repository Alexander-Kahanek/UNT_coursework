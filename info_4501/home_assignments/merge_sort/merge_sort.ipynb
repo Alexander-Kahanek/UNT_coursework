{
  "nbformat": 4,
  "nbformat_minor": 0,
  "metadata": {
    "colab": {
      "name": "INFO4501_merge_sort.ipynb",
      "provenance": []
    },
    "kernelspec": {
      "name": "python3",
      "display_name": "Python 3"
    }
  },
  "cells": [
    {
      "cell_type": "code",
      "metadata": {
        "id": "NMbEvkbNCGsd"
      },
      "source": [
        "def merge_lists(left, right):\r\n",
        "  '''\r\n",
        "  function merges left and right lists that are given from min to max.\r\n",
        "\r\n",
        "  input: left, right | need to be a list of left and right split to merge\r\n",
        "  output: a single list, sorted from min to max\r\n",
        "  '''\r\n",
        "  # print(f'inside merge_lists with left: {left} and right: {right}')\r\n",
        "\r\n",
        "  # counters for numbers added to merged_list, which is the final ordered list\r\n",
        "  left_cnt, right_cnt, merged_list = 0, 0, [] \r\n",
        "\r\n",
        "  while left_cnt < len(left) and right_cnt < len(right):\r\n",
        "    # until function sees all numbers of one list\r\n",
        "    if left[left_cnt] < right[right_cnt]:\r\n",
        "      # then left number is first\r\n",
        "        merged_list.append(left[left_cnt]) # add number to list\r\n",
        "        left_cnt += 1 # used number, add counter\r\n",
        "    else:\r\n",
        "      # left number was bigger, add right number\r\n",
        "        merged_list.append(right[right_cnt]) # add number to list\r\n",
        "        right_cnt += 1 # used number, add counter\r\n",
        "\r\n",
        "    # print(f'inside while loop: {merged_list}')\r\n",
        "\r\n",
        "  # while loops misses max numbers when one list finishes\r\n",
        "  # so, add left over list from left and right lsits\r\n",
        "  merged_list.extend(left[left_cnt:])\r\n",
        "  merged_list.extend(right[right_cnt:])\r\n",
        "\r\n",
        "  # print(f'leaving merge_lists with: {merged_list}, lcnt: {left_cnt}, rcnt: {right_cnt}')\r\n",
        "  return merged_list\r\n",
        "\r\n",
        "\r\n",
        "def mergeSort(alist):\r\n",
        "  '''\r\n",
        "  function recursively divides alist, then merges each section until complete.\r\n",
        "\r\n",
        "  input: alist | a sortable list, ie, [3,1,2], ['a', 'b', 'c']\r\n",
        "  output: a fully sorted list\r\n",
        "  '''\r\n",
        "  # print(f'inside mergeSort with {alist}')\r\n",
        "\r\n",
        "  if len(alist) <= 1:  # base case, no sort needed\r\n",
        "    return alist\r\n",
        "\r\n",
        "  # divide list length in half to find split\r\n",
        "  split = len(alist) // 2 # floor division\r\n",
        "  # recursive calls\r\n",
        "  left = mergeSort(alist[:split]) \r\n",
        "  right = mergeSort(alist[split:])\r\n",
        "\r\n",
        "  return merge_lists(left, right)"
      ],
      "execution_count": null,
      "outputs": []
    },
    {
      "cell_type": "code",
      "metadata": {
        "colab": {
          "base_uri": "https://localhost:8080/"
        },
        "id": "Q2ecSYzvKkSa",
        "outputId": "6fb4e011-66c4-446c-e44d-858dad0ebb5a"
      },
      "source": [
        "# problem statement\r\n",
        "# odd length list case\r\n",
        "alist = [54,26,93,17,77,31,44,55,20]\r\n",
        "mergeSort(alist)"
      ],
      "execution_count": null,
      "outputs": [
        {
          "output_type": "execute_result",
          "data": {
            "text/plain": [
              "[17, 20, 26, 31, 44, 54, 55, 77, 93]"
            ]
          },
          "metadata": {
            "tags": []
          },
          "execution_count": 95
        }
      ]
    },
    {
      "cell_type": "code",
      "metadata": {
        "colab": {
          "base_uri": "https://localhost:8080/"
        },
        "id": "nYu-XiyNKHDZ",
        "outputId": "590cedfb-4c55-49ff-e566-47b3aeaaf503"
      },
      "source": [
        "# even length list case\r\n",
        "mergeSort([3, 0, 12, 67])"
      ],
      "execution_count": null,
      "outputs": [
        {
          "output_type": "execute_result",
          "data": {
            "text/plain": [
              "[0, 3, 12, 67]"
            ]
          },
          "metadata": {
            "tags": []
          },
          "execution_count": 90
        }
      ]
    },
    {
      "cell_type": "code",
      "metadata": {
        "colab": {
          "base_uri": "https://localhost:8080/"
        },
        "id": "6A3R3nOHKzCP",
        "outputId": "bd43811a-4189-4edf-a0d0-b818134912b0"
      },
      "source": [
        "# decimals and negatives case\r\n",
        "mergeSort([0.00004, -11, 0.25913651, 0.00000000000000000009])"
      ],
      "execution_count": null,
      "outputs": [
        {
          "output_type": "execute_result",
          "data": {
            "text/plain": [
              "[-11, 9e-20, 4e-05, 0.25913651]"
            ]
          },
          "metadata": {
            "tags": []
          },
          "execution_count": 30
        }
      ]
    },
    {
      "cell_type": "code",
      "metadata": {
        "colab": {
          "base_uri": "https://localhost:8080/"
        },
        "id": "tyAeELAlJXc3",
        "outputId": "09ee386d-e2f7-4892-8dd0-a1181df39514"
      },
      "source": [
        "# repeat numbers case\r\n",
        "mergeSort([2,5,3,0,7,0,86,125,85,23,7,2,96,2])"
      ],
      "execution_count": null,
      "outputs": [
        {
          "output_type": "execute_result",
          "data": {
            "text/plain": [
              "[0, 0, 2, 2, 2, 3, 5, 7, 7, 23, 85, 86, 96, 125]"
            ]
          },
          "metadata": {
            "tags": []
          },
          "execution_count": 28
        }
      ]
    },
    {
      "cell_type": "code",
      "metadata": {
        "colab": {
          "base_uri": "https://localhost:8080/"
        },
        "id": "JEcUfFHtFaxD",
        "outputId": "b248e0fc-7dbc-4b1c-a0da-9394febef78c"
      },
      "source": [
        "# tuple case\r\n",
        "mergeSort((3,1,90,59,197))"
      ],
      "execution_count": null,
      "outputs": [
        {
          "output_type": "execute_result",
          "data": {
            "text/plain": [
              "[1, 3, 59, 90, 197]"
            ]
          },
          "metadata": {
            "tags": []
          },
          "execution_count": 4
        }
      ]
    },
    {
      "cell_type": "code",
      "metadata": {
        "colab": {
          "base_uri": "https://localhost:8080/"
        },
        "id": "YtQyS478ISVT",
        "outputId": "5c4f05f7-ea4e-4918-bcdf-2c53af342519"
      },
      "source": [
        "# character case\r\n",
        "mergeSort(['a', 'c', 'q', 'e'])"
      ],
      "execution_count": null,
      "outputs": [
        {
          "output_type": "execute_result",
          "data": {
            "text/plain": [
              "['a', 'c', 'e', 'q']"
            ]
          },
          "metadata": {
            "tags": []
          },
          "execution_count": 91
        }
      ]
    },
    {
      "cell_type": "code",
      "metadata": {
        "colab": {
          "base_uri": "https://localhost:8080/"
        },
        "id": "Mqe9kvimFMP2",
        "outputId": "84f3022d-caa4-482d-d56f-35906037568d"
      },
      "source": [
        "# string case\r\n",
        "mergeSort('bqfdaeci')"
      ],
      "execution_count": null,
      "outputs": [
        {
          "output_type": "execute_result",
          "data": {
            "text/plain": [
              "['a', 'b', 'c', 'd', 'e', 'f', 'i', 'q']"
            ]
          },
          "metadata": {
            "tags": []
          },
          "execution_count": 3
        }
      ]
    },
    {
      "cell_type": "code",
      "metadata": {
        "colab": {
          "base_uri": "https://localhost:8080/"
        },
        "id": "9aIBsm7gKCNc",
        "outputId": "fd8f8407-acba-4a69-c645-544421d6de50"
      },
      "source": [
        "# single number list case\r\n",
        "mergeSort([12])"
      ],
      "execution_count": null,
      "outputs": [
        {
          "output_type": "execute_result",
          "data": {
            "text/plain": [
              "[12]"
            ]
          },
          "metadata": {
            "tags": []
          },
          "execution_count": 92
        }
      ]
    },
    {
      "cell_type": "code",
      "metadata": {
        "colab": {
          "base_uri": "https://localhost:8080/"
        },
        "id": "WZ_pjcm0KaEj",
        "outputId": "559887c6-938f-4de1-8460-41ff552feb2f"
      },
      "source": [
        "# empty list case\r\n",
        "mergeSort([])"
      ],
      "execution_count": null,
      "outputs": [
        {
          "output_type": "execute_result",
          "data": {
            "text/plain": [
              "[]"
            ]
          },
          "metadata": {
            "tags": []
          },
          "execution_count": 93
        }
      ]
    }
  ]
}